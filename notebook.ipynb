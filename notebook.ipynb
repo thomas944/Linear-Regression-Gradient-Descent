{
 "cells": [
  {
   "cell_type": "code",
   "execution_count": 12,
   "metadata": {},
   "outputs": [
    {
     "name": "stderr",
     "output_type": "stream",
     "text": [
      "/var/folders/sd/3vwbbsq14yx8lkq17z7cnnmr0000gn/T/ipykernel_75831/797915773.py:10: FutureWarning: DataFrame.set_axis 'inplace' keyword is deprecated and will be removed in a future version. Use `obj = obj.set_axis(..., copy=False)` instead\n",
      "  df.set_axis(df.iloc[0], axis=1, inplace=True)\n",
      "/var/folders/sd/3vwbbsq14yx8lkq17z7cnnmr0000gn/T/ipykernel_75831/797915773.py:20: SettingWithCopyWarning: \n",
      "A value is trying to be set on a copy of a slice from a DataFrame.\n",
      "Try using .loc[row_indexer,col_indexer] = value instead\n",
      "\n",
      "See the caveats in the documentation: https://pandas.pydata.org/pandas-docs/stable/user_guide/indexing.html#returning-a-view-versus-a-copy\n",
      "  data[col] = data[col].replace({'yes': 1, 'no': 0})\n",
      "/var/folders/sd/3vwbbsq14yx8lkq17z7cnnmr0000gn/T/ipykernel_75831/797915773.py:22: SettingWithCopyWarning: \n",
      "A value is trying to be set on a copy of a slice from a DataFrame.\n",
      "Try using .loc[row_indexer,col_indexer] = value instead\n",
      "\n",
      "See the caveats in the documentation: https://pandas.pydata.org/pandas-docs/stable/user_guide/indexing.html#returning-a-view-versus-a-copy\n",
      "  data[list(features)] = data[list(features)].astype(float)\n"
     ]
    },
    {
     "name": "stdout",
     "output_type": "stream",
     "text": [
      "      iteration        cost\n",
      "0           0.0  124.161886\n",
      "1          10.0   39.844040\n",
      "2          20.0   29.540868\n",
      "3          30.0   25.653771\n",
      "4          40.0   24.088444\n",
      "...         ...         ...\n",
      "9995    99950.0   16.353752\n",
      "9996    99960.0   16.353751\n",
      "9997    99970.0   16.353750\n",
      "9998    99980.0   16.353749\n",
      "9999    99990.0   16.353748\n",
      "\n",
      "[10000 rows x 2 columns]\n"
     ]
    }
   ],
   "source": [
    "import pandas as pd\n",
    "import numpy as np\n",
    "import random\n",
    "from sklearn.model_selection import train_test_split\n",
    "\n",
    "\n",
    "FILE_PATH = './student-mat.csv'\n",
    "\n",
    "df = pd.read_csv(FILE_PATH, sep=';', skiprows=0, header=None)\n",
    "df.set_axis(df.iloc[0], axis=1, inplace=True)\n",
    "df = df[1:]\n",
    "df.rename(columns={'Fedu':'father_edu','Medu':'mother_edu','G3':'final_grade','romantic':'relationship'},inplace=True)\n",
    "\n",
    "features = ['father_edu', 'mother_edu', 'traveltime', 'studytime', 'failures', 'schoolsup', 'famsup', 'paid', 'higher', 'internet', 'relationship', 'goout', 'Dalc', 'Walc', 'absences', 'final_grade']\n",
    "data = df[features]\n",
    "\n",
    "categorical_cols = data.select_dtypes(include='object').columns\n",
    "\n",
    "for col in categorical_cols:\n",
    "  data[col] = data[col].replace({'yes': 1, 'no': 0})\n",
    "\n",
    "data[list(features)] = data[list(features)].astype(float)\n",
    "\n",
    "X = data.drop('final_grade', axis=1)\n",
    "Y = data['final_grade']\n",
    "\n",
    "X_train, X_test, Y_train, Y_test = train_test_split(X, Y, test_size=0.2, random_state=42)\n",
    "\n",
    "\n",
    "# Gradient Descent parameters\n",
    "learning_rate = 0.001\n",
    "num_iterations = 100000\n",
    "\n",
    "# Initialize bias and weights with small random values\n",
    "def initialize(num_features):\n",
    "  bias = random.random() * 0.01\n",
    "  weights = np.random.randn(num_features) * 0.01\n",
    "  return bias, weights\n",
    "\n",
    "# Predict the output based on current bias and weights\n",
    "def predict_y(bias, weights, X):\n",
    "  X_values = np.array(X)\n",
    "  return bias + np.dot(X_values, weights)\n",
    "\n",
    "# Mean Squared Error (MSE) cost function\n",
    "def get_cost(Y, Y_hat):\n",
    "  Y_res = Y - Y_hat\n",
    "  return np.mean(Y_res ** 2)\n",
    "\n",
    "# Update bias and weights using gradient descent update rule\n",
    "def update(X, Y, Y_hat, old_bias, old_weights, learning_rate):\n",
    "  db = (np.mean(Y_hat - Y) * 2)\n",
    "  dw = (np.dot((Y_hat - Y), X) * 2) / len(Y)\n",
    "  new_bias = old_bias - learning_rate * db\n",
    "  new_weights = old_weights - learning_rate * dw\n",
    "  return new_bias, new_weights\n",
    "\n",
    "# Gradient Descent algorithm\n",
    "def gradient_descent(X, Y, learning_rate, num_iterations):\n",
    "  bias, weights = initialize(X.shape[1])\n",
    "  mse_history = pd.DataFrame(columns=['iteration','cost'])\n",
    "  array_index = 0\n",
    "  for iteration in range(num_iterations):\n",
    "    Y_hat = predict_y(bias, weights, X)\n",
    "    cost = get_cost(Y, Y_hat)\n",
    "    bias, weights = update(X, Y, Y_hat, bias, weights, learning_rate)\n",
    "    if iteration % 10 == 0:\n",
    "      mse_history.loc[array_index]=[iteration,cost]\n",
    "      array_index += 1\n",
    "    #print(f\"Iteration: {iteration}, Cost: {cost}\")\n",
    "  return mse_history, bias, weights\n",
    "\n",
    "mse_history, bias, weights = gradient_descent(X_train, Y_train, learning_rate, num_iterations)\n",
    "print(mse_history)\n",
    "mse_history, bias, weights = gradient_descent(X_test, Y_test, learning_rate, num_iterations)\n",
    "#print(mse_history[-1])"
   ]
  },
  {
   "cell_type": "code",
   "execution_count": 13,
   "metadata": {},
   "outputs": [
    {
     "data": {
      "text/plain": [
       "Text(0, 0.5, 'Cost of MSE')"
      ]
     },
     "execution_count": 13,
     "metadata": {},
     "output_type": "execute_result"
    },
    {
     "data": {
      "image/png": "[encoded data removed]",
      "text/plain": [
       "<Figure size 640x480 with 1 Axes>"
      ]
     },
     "metadata": {},
     "output_type": "display_data"
    }
   ],
   "source": [
    "%matplotlib inline\n",
    "from matplotlib import pyplot as plt\n",
    "plt.plot(mse_history['iteration'], mse_history['cost'])\n",
    "plt.xlabel('Number of iterations')\n",
    "plt.ylabel('Cost of MSE')"
   ]
  }
 ],
 "metadata": {
  "kernelspec": {
   "display_name": "Python 3",
   "language": "python",
   "name": "python3"
  },
  "language_info": {
   "codemirror_mode": {
    "name": "ipython",
    "version": 3
   },
   "file_extension": ".py",
   "mimetype": "text/x-python",
   "name": "python",
   "nbconvert_exporter": "python",
   "pygments_lexer": "ipython3",
   "version": "3.11.1"
  },
  "orig_nbformat": 4
 },
 "nbformat": 4,
 "nbformat_minor": 2
}
